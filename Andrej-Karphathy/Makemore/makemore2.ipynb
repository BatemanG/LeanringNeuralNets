{
 "cells": [
  {
   "cell_type": "code",
   "execution_count": 1,
   "metadata": {},
   "outputs": [],
   "source": [
    "import torch\n",
    "import torch.nn.functional as F\n",
    "import matplotlib.pyplot as plt \n",
    "%matplotlib inline"
   ]
  },
  {
   "cell_type": "code",
   "execution_count": 2,
   "metadata": {},
   "outputs": [
    {
     "data": {
      "text/plain": [
       "['emma', 'olivia', 'ava', 'isabella', 'sophia', 'charlotte', 'mia', 'amelia']"
      ]
     },
     "execution_count": 2,
     "metadata": {},
     "output_type": "execute_result"
    }
   ],
   "source": [
    "# read in all the words\n",
    "words = open('names.txt', 'r').read().splitlines()\n",
    "words[:8]"
   ]
  },
  {
   "cell_type": "code",
   "execution_count": 3,
   "metadata": {},
   "outputs": [
    {
     "name": "stdout",
     "output_type": "stream",
     "text": [
      "{1: 'a', 2: 'b', 3: 'c', 4: 'd', 5: 'e', 6: 'f', 7: 'g', 8: 'h', 9: 'i', 10: 'j', 11: 'k', 12: 'l', 13: 'm', 14: 'n', 15: 'o', 16: 'p', 17: 'q', 18: 'r', 19: 's', 20: 't', 21: 'u', 22: 'v', 23: 'w', 24: 'x', 25: 'y', 26: 'z', 0: '.'}\n"
     ]
    }
   ],
   "source": [
    "# build the vocabulary of characters and mappings to/from integers\n",
    "chars = sorted(list(set(''.join(words))))\n",
    "stoi = {s:i+1 for i,s in enumerate(chars)}\n",
    "stoi['.'] = 0\n",
    "itos = {i:s for s,i in stoi.items()}\n",
    "print(itos)"
   ]
  },
  {
   "cell_type": "code",
   "execution_count": 4,
   "metadata": {},
   "outputs": [],
   "source": [
    "# build the dataset\n",
    "context_length = 4 #  how many characters do we take to predict the next one?\n",
    "\n",
    "def build_dataset(words,context_length):  \n",
    "  X, Y = [], []\n",
    "  for w in words:\n",
    "\n",
    "    #print(w)\n",
    "    context = [0] * context_length\n",
    "    for ch in w + '.':\n",
    "      ix = stoi[ch]\n",
    "      X.append(context)\n",
    "      Y.append(ix)\n",
    "      #print(''.join(itos[i] for i in context), '--->', itos[ix])\n",
    "      context = context[1:] + [ix] # crop and append\n",
    "\n",
    "  X = torch.tensor(X)\n",
    "  Y = torch.tensor(Y)\n",
    "  # print(X.shape, Y.shape)\n",
    "  return X, Y\n",
    "\n",
    "import random\n",
    "random.seed(42)\n",
    "random.shuffle(words)\n",
    "n1 = int(0.8*len(words))\n",
    "n2 = int(0.9*len(words))\n",
    "\n",
    "Xtr, Ytr = build_dataset(words[:n1],context_length)\n",
    "Xdev, Ydev = build_dataset(words[n1:n2],context_length)\n",
    "Xte, Yte = build_dataset(words[n2:],context_length)"
   ]
  },
  {
   "cell_type": "code",
   "execution_count": 5,
   "metadata": {},
   "outputs": [
    {
     "data": {
      "text/plain": [
       "(torch.Size([182625, 4]), torch.Size([182625]))"
      ]
     },
     "execution_count": 5,
     "metadata": {},
     "output_type": "execute_result"
    }
   ],
   "source": [
    "Xtr.shape, Ytr.shape # dataset"
   ]
  },
  {
   "cell_type": "code",
   "execution_count": 6,
   "metadata": {},
   "outputs": [
    {
     "data": {
      "text/plain": [
       "13897"
      ]
     },
     "execution_count": 6,
     "metadata": {},
     "output_type": "execute_result"
    }
   ],
   "source": [
    "dimR = 10\n",
    "hl_size = 200\n",
    "g = torch.Generator().manual_seed(2147483647) # for reproducibility\n",
    "C = torch.randn((27, dimR), generator=g)\n",
    "W1 = torch.randn((context_length*dimR, hl_size), generator=g)\n",
    "b1 = torch.randn(hl_size, generator=g)\n",
    "W2 = torch.randn((hl_size, 27), generator=g)\n",
    "b2 = torch.randn(27, generator=g)\n",
    "parameters = [C, W1, b1, W2, b2]\n",
    "\n",
    "for p in parameters:\n",
    "  p.requires_grad = True\n",
    "\n",
    "sum(p.nelement() for p in parameters) # number of parameters in total"
   ]
  },
  {
   "cell_type": "code",
   "execution_count": 7,
   "metadata": {},
   "outputs": [],
   "source": [
    "lre = torch.linspace(-3, 0, 1000)\n",
    "lrs = 10**lre"
   ]
  },
  {
   "cell_type": "code",
   "execution_count": 8,
   "metadata": {},
   "outputs": [
    {
     "name": "stdout",
     "output_type": "stream",
     "text": [
      "2.05411958694458\n"
     ]
    }
   ],
   "source": [
    "lri = []\n",
    "lossi = []\n",
    "stepi = []\n",
    "bs = 32   \n",
    "max_steps = 200000\n",
    "for i in range(max_steps):\n",
    "  \n",
    "  # minibatch construct\n",
    "                                                              #NOTE: training with batches drasticaly increses the training time~\n",
    "  ix = torch.randint(0, Xtr.shape[0], (bs,))    #batch size = 32\n",
    "  \n",
    "  ## forward pass ##\n",
    "  emb = C[Xtr[ix]] # (32, context_length, Rdim)                         #NOTE: Equiv to matrix mulit and one_hot encoding\n",
    "  In = emb.view(-1, W1.shape[0])                                        #NOTE: using view over concatante as pytorch doenst need to make a new tensor. \n",
    "                                                                        #NOTE: when putting -1, it means that pytorch will infer what the correct value should be\n",
    "  h = torch.tanh(In @ W1 + b1) # (32, hl_size)                          #NOTE: make sure you always check broadcasting rule, (will do below)\n",
    "  logits = h @ W2 + b2 # (32, 27) \n",
    "  loss = F.cross_entropy(logits, Ytr[ix])                               \n",
    "  \n",
    "  \n",
    "  ## backward pass ##\n",
    "  for p in parameters:\n",
    "    p.grad = None\n",
    "  loss.backward()\n",
    "  \n",
    "  ## update ##\n",
    "  #lr = lrs[i]\n",
    "  lr = 0.1 if i < 100000 else 0.01\n",
    "  # lr = 0.01\n",
    "  for p in parameters:\n",
    "    p.data += -lr * p.grad\n",
    "\n",
    "  ## track stats ##\n",
    "#   lri.append(lre[i])\n",
    "  stepi.append(i)\n",
    "  lossi.append(loss.log10().item())\n",
    "\n",
    "print(loss.item())"
   ]
  },
  {
   "attachments": {},
   "cell_type": "markdown",
   "metadata": {},
   "source": [
    "Firstly it is important to check that boardcasting is doing what we expect. Lets first look at In @ W2 + b2, the left is a (32,hl_size) which in our case so far is 200, and b1 is (hl_size). Therefore alining from the right and adding a dimension where there isnt any gives,\n",
    "\n",
    "(32,hl_size)\n",
    "(1, hl_size)\n",
    "\n",
    "which means that the broadcasting will consider b1 as a row, and copy vertical to make it (32,hl_size). Which is what we want, this case for the logits follows similarly.\n",
    "\n",
    "Secondly we used F.cross_entropy instead of previously coding it ourselfs with:\n",
    "\n",
    "    counts = logits.exp()                         # counts, equivalent to N\n",
    "    probs = counts / counts.sum(1, keepdims=True) # probabilities for next character\n",
    "\n",
    "We do this for a few reasons, \n",
    "Firstly pytorch optemises the algorthim so it is quicker, and the backwards pass is much more effiect by taking into account what its derived derivative is (similar like to what we did to tanh in micrograd), another reason is that it elimates the worry of the exp being to large for our float point number which would give a value of inf, which is not what we want. It does this by using the fact that probs in the above code is dependent on just difference of the values, so it minus the largest values so that all values are less then or equal to 0, which leads exp of the values to be less then or equal to 1, and hence well behaved. \n",
    "\n",
    "e.g"
   ]
  },
  {
   "cell_type": "code",
   "execution_count": 9,
   "metadata": {},
   "outputs": [
    {
     "name": "stdout",
     "output_type": "stream",
     "text": [
      "example_counts=tensor([0.1353, 0.0498, 1.0000,    inf])\n",
      "example_probs=tensor([0., 0., 0., nan])\n"
     ]
    }
   ],
   "source": [
    "#Problem case\n",
    "example = torch.tensor([-2,-3,0,100])\n",
    "example_counts = example.exp()\n",
    "example_probs = example_counts / example_counts.sum()\n",
    "print(f'{example_counts=}')\n",
    "print(f'{example_probs=}')"
   ]
  },
  {
   "cell_type": "code",
   "execution_count": 10,
   "metadata": {},
   "outputs": [
    {
     "name": "stdout",
     "output_type": "stream",
     "text": [
      "example_probs=tensor([9.0466e-04, 3.3281e-04, 6.6846e-03, 9.9208e-01])\n"
     ]
    }
   ],
   "source": [
    "\n",
    "example = torch.tensor([-2,-3,0,5])\n",
    "example_counts = example.exp()\n",
    "example_probs = example_counts / example_counts.sum()\n",
    "print(f'{example_probs=}')"
   ]
  },
  {
   "cell_type": "code",
   "execution_count": 11,
   "metadata": {},
   "outputs": [
    {
     "name": "stdout",
     "output_type": "stream",
     "text": [
      "example_probs=tensor([9.0466e-04, 3.3281e-04, 6.6846e-03, 9.9208e-01])\n"
     ]
    }
   ],
   "source": [
    "example = torch.tensor([-2,-3,0,5]) - 5\n",
    "example_counts = example.exp()\n",
    "example_probs = example_counts / example_counts.sum()\n",
    "print(f'{example_probs=}')"
   ]
  },
  {
   "attachments": {},
   "cell_type": "markdown",
   "metadata": {},
   "source": [
    "Plot of the training step agains loss:"
   ]
  },
  {
   "cell_type": "code",
   "execution_count": 12,
   "metadata": {},
   "outputs": [
    {
     "data": {
      "text/plain": [
       "[<matplotlib.lines.Line2D at 0x27e529217e0>]"
      ]
     },
     "execution_count": 12,
     "metadata": {},
     "output_type": "execute_result"
    },
    {
     "data": {
      "image/png": "[encoded data removed]",
      "text/plain": [
       "<Figure size 640x480 with 1 Axes>"
      ]
     },
     "metadata": {},
     "output_type": "display_data"
    }
   ],
   "source": [
    "plt.plot(stepi, lossi)"
   ]
  },
  {
   "attachments": {},
   "cell_type": "markdown",
   "metadata": {},
   "source": [
    "The 'thickness' is becauses of the batches making noise, we could reduce the noice by increaseing the batch size: This is something that will be considered bellow. "
   ]
  },
  {
   "cell_type": "code",
   "execution_count": 13,
   "metadata": {},
   "outputs": [
    {
     "data": {
      "text/plain": [
       "tensor(2.1492, grad_fn=<NllLossBackward0>)"
      ]
     },
     "execution_count": 13,
     "metadata": {},
     "output_type": "execute_result"
    }
   ],
   "source": [
    "# evalutae the loss on the whole training set\n",
    "emb = C[Xtr] # (32, 3, 2) = (batch_size,context_size,dimR)\n",
    "h = torch.tanh(emb.view(-1, W1.shape[0]) @ W1 + b1) # (32, 200)  = (batch_size, hl_size)     \n",
    "logits = h @ W2 + b2 # (32, 27) = (batch_size, len(char))\n",
    "loss = F.cross_entropy(logits, Ytr)\n",
    "loss"
   ]
  },
  {
   "cell_type": "code",
   "execution_count": 14,
   "metadata": {},
   "outputs": [
    {
     "data": {
      "text/plain": [
       "tensor(2.1843, grad_fn=<NllLossBackward0>)"
      ]
     },
     "execution_count": 14,
     "metadata": {},
     "output_type": "execute_result"
    }
   ],
   "source": [
    "# evaluate the loss on the whole dev set\n",
    "emb = C[Xdev] # (32, 3, 2) = (batch_size,context_size,dimR)\n",
    "h = torch.tanh(emb.view(-1, W1.shape[0]) @ W1 + b1) # (32, 200) = (batch_size, hl_size)\n",
    "logits = h @ W2 + b2 # (32, 27) = (batch_size, len(char))\n",
    "loss = F.cross_entropy(logits, Ydev)\n",
    "loss"
   ]
  },
  {
   "attachments": {},
   "cell_type": "markdown",
   "metadata": {},
   "source": [
    "we see the the training and the dev loss are similar so we are not overfitting, (this is cus are network is very small)"
   ]
  },
  {
   "attachments": {},
   "cell_type": "markdown",
   "metadata": {},
   "source": [
    "since we where under fitting we expec that making the hiden layer bigged to reduced the loss, if this is not the case means that we may have a bottle neck somewhere else, which would indicate a botle neck in the chioce of only 2 dimension "
   ]
  },
  {
   "attachments": {},
   "cell_type": "markdown",
   "metadata": {},
   "source": [
    "before scaling up the dimension of the embeding lets think about how to visualise it. Note that after increase the dim past 3 we cant really visualise easily."
   ]
  },
  {
   "cell_type": "code",
   "execution_count": 15,
   "metadata": {},
   "outputs": [
    {
     "data": {
      "image/png": "[encoded data removed]",
      "text/plain": [
       "<Figure size 600x600 with 1 Axes>"
      ]
     },
     "metadata": {},
     "output_type": "display_data"
    }
   ],
   "source": [
    "# visualize dimensions 0 and 1 of the embedding matrix C for all characters, not that this only gives a good picutre when are embedining into R^2\n",
    "plt.figure(figsize=(6,6))\n",
    "plt.scatter(C[:,0].data, C[:,1].data, s=200)\n",
    "for i in range(C.shape[0]):\n",
    "    plt.text(C[i,0].item(), C[i,1].item(), itos[i], ha=\"center\", va=\"center\", color='white')\n",
    "plt.grid('minor')\n"
   ]
  },
  {
   "attachments": {},
   "cell_type": "markdown",
   "metadata": {},
   "source": [
    "Notice how the vows are slightly away from the main cluster, since the netword thinks of them as being similar. we can notice a little bit it of structer. "
   ]
  },
  {
   "attachments": {},
   "cell_type": "markdown",
   "metadata": {},
   "source": [
    "what does the model look like so far:"
   ]
  },
  {
   "cell_type": "code",
   "execution_count": 16,
   "metadata": {},
   "outputs": [
    {
     "name": "stdout",
     "output_type": "stream",
     "text": [
      "mora.\n",
      "mayah.\n",
      "seel.\n",
      "nihlyal.\n",
      "remyr.\n",
      "jendra.\n",
      "graderydoe.\n",
      "ilen.\n",
      "popelle.\n",
      "elisan.\n",
      "narleigh.\n",
      "mhlara.\n",
      "noshon.\n",
      "roshirie.\n",
      "trin.\n",
      "renlyn.\n",
      "jebeulan.\n",
      "breygen.\n",
      "jamell.\n",
      "elsyn.\n"
     ]
    }
   ],
   "source": [
    "# sample from the model\n",
    "g = torch.Generator().manual_seed(2147483647 + 10)\n",
    "\n",
    "for _ in range(20):\n",
    "    \n",
    "    out = []\n",
    "    context = [0] * context_length # initialize with all ...\n",
    "    while True:\n",
    "      emb = C[torch.tensor([context])] # (1,block_size,d)\n",
    "      h = torch.tanh(emb.view(1, -1) @ W1 + b1)\n",
    "      logits = h @ W2 + b2\n",
    "      probs = F.softmax(logits, dim=1)\n",
    "      ix = torch.multinomial(probs, num_samples=1, generator=g).item()\n",
    "      context = context[1:] + [ix]\n",
    "      out.append(ix)\n",
    "      if ix == 0:\n",
    "        break\n",
    "    \n",
    "    print(''.join(itos[i] for i in out))"
   ]
  },
  {
   "attachments": {},
   "cell_type": "markdown",
   "metadata": {},
   "source": [
    "in production you would make hyperproamiters to find the things like learning rate"
   ]
  },
  {
   "cell_type": "code",
   "execution_count": 17,
   "metadata": {},
   "outputs": [],
   "source": [
    "#messing around to find the best hyper proamiters\n",
    "import random\n",
    "\n",
    "\n",
    "def model(dimR, context_length, hl_size, bs, extra_links=False):\n",
    "\n",
    "  print(f'model testing with dimR={dimR}, context_length={context_length} and hide layer size={hl_size}:')\n",
    "\n",
    "  random.seed(42)\n",
    "  random.shuffle(words)\n",
    "  n1 = int(0.8*len(words))\n",
    "  n2 = int(0.9*len(words))\n",
    "\n",
    "  Xtr, Ytr = build_dataset(words[:n1],context_length)\n",
    "  Xdev, Ydev = build_dataset(words[n1:n2],context_length)\n",
    "  Xte, Yte = build_dataset(words[n2:],context_length)\n",
    "\n",
    "\n",
    "  dimR = 10\n",
    "  hl_size = 200\n",
    "  g = torch.Generator().manual_seed(2147483647) # for reproducibility\n",
    "  C = torch.randn((27, dimR), generator=g)\n",
    "  W1 = torch.randn((context_length*dimR, hl_size), generator=g)\n",
    "  b1 = torch.randn(hl_size, generator=g)\n",
    "  W2 = torch.randn((hl_size, 27), generator=g)\n",
    "  b2 = torch.randn(27, generator=g)\n",
    "\n",
    "  if extra_links:\n",
    "    W3 = torch.randn((context_length*dimR, 27), generator=g)\n",
    "    parameters = [C, W1, b1, W2, b2, W3]\n",
    "  else:\n",
    "    parameters = [C, W1, b1, W2, b2]\n",
    "\n",
    "\n",
    "  for p in parameters:\n",
    "    p.requires_grad = True\n",
    "\n",
    "  ## training ##\n",
    "  lossi = []\n",
    "  stepi = []\n",
    "  for i in range(200000):\n",
    "  \n",
    "    ## minibatch construct ##\n",
    "    # bs = 32\n",
    "    ix = torch.randint(0, Xtr.shape[0], (bs,))    #batch size = 32\n",
    "    \n",
    "    ## forward pass ##\n",
    "    emb = C[Xtr[ix]] # (32, context_length, Rdim)                         #NOTE: Equiv to matrix mulit and one_hot encoding\n",
    "    In = emb.view(-1, W1.shape[0])                                        #NOTE: using view over concatante as pytorch doenst need to make a new tensor. \n",
    "    h = torch.tanh(In @ W1 + b1) # (32, hl_size)                          #NOTE: make sure you always check broadcasting rule, (will do below)\n",
    "\n",
    "    if extra_links:\n",
    "      logits =(In @ W3) + (h @ W2) + b2 # (32, 27)\n",
    "    else:  \n",
    "      logits = h @ W2 + b2 # (32, 27)\n",
    "      \n",
    "    loss = F.cross_entropy(logits, Ytr[ix])\n",
    "    \n",
    "    \n",
    "    ## backward pass ##\n",
    "    for p in parameters:\n",
    "      p.grad = None\n",
    "    loss.backward()\n",
    "    \n",
    "    ## update ##\n",
    "    lr = 0.1 if i < 100000 else 0.01\n",
    "    for p in parameters:\n",
    "      p.data += -lr * p.grad\n",
    "\n",
    "    ## track stats ##\n",
    "    stepi.append(i)\n",
    "    lossi.append(loss.log10().item())\n",
    "\n",
    "  print('loss on the final batch', loss.item())\n",
    "\n",
    "    ## evaluate the loss on the whole dev set ##\n",
    "  emb = C[Xdev] # (32, 3, 2)\n",
    "  h = torch.tanh(emb.view(-1, W1.shape[0]) @ W1 + b1) # (32, 100)\n",
    "  logits = h @ W2 + b2 # (32, 27)\n",
    "  loss = F.cross_entropy(logits, Ydev)\n",
    "  loss\n",
    "  print('loss on the whole dev set', loss.item())\n",
    "  plt.plot(stepi, lossi)\n",
    "      \n"
   ]
  },
  {
   "cell_type": "code",
   "execution_count": 18,
   "metadata": {},
   "outputs": [
    {
     "name": "stdout",
     "output_type": "stream",
     "text": [
      "model testing with dimR=10, context_length=3 and hide layer size=200:\n",
      "loss on the final batch 1.876021385192871\n",
      "loss on the whole dev set 2.1599628925323486\n"
     ]
    },
    {
     "data": {
      "image/png": "[encoded data removed]",
      "text/plain": [
       "<Figure size 640x480 with 1 Axes>"
      ]
     },
     "metadata": {},
     "output_type": "display_data"
    }
   ],
   "source": [
    "model(10,3,200,32)  \n",
    "    \n",
    "    "
   ]
  },
  {
   "attachments": {},
   "cell_type": "markdown",
   "metadata": {},
   "source": [
    "possibly over fitting?\n",
    "\n",
    "model testing with dimR=10, context_length=3 and hide layer size=200:\n",
    "\n",
    "loss on the final batch 1.7968454360961914\n",
    "\n",
    "loss on the whole dev set 2.190011978149414"
   ]
  },
  {
   "cell_type": "code",
   "execution_count": 19,
   "metadata": {},
   "outputs": [
    {
     "name": "stdout",
     "output_type": "stream",
     "text": [
      "model testing with dimR=10, context_length=3 and hide layer size=200:\n",
      "loss on the final batch 2.268420934677124\n",
      "loss on the whole dev set 3.3591573238372803\n"
     ]
    },
    {
     "data": {
      "image/png": "[encoded data removed]",
      "text/plain": [
       "<Figure size 640x480 with 1 Axes>"
      ]
     },
     "metadata": {},
     "output_type": "display_data"
    }
   ],
   "source": [
    "model(10,3,200,32, extra_links=True)  "
   ]
  },
  {
   "attachments": {},
   "cell_type": "markdown",
   "metadata": {},
   "source": [
    "Looks like overfitting"
   ]
  },
  {
   "attachments": {},
   "cell_type": "markdown",
   "metadata": {},
   "source": [
    "dredful "
   ]
  },
  {
   "cell_type": "code",
   "execution_count": 20,
   "metadata": {},
   "outputs": [
    {
     "name": "stdout",
     "output_type": "stream",
     "text": [
      "model testing with dimR=10, context_length=3 and hide layer size=200:\n",
      "loss on the final batch 2.150007486343384\n",
      "loss on the whole dev set 2.1595375537872314\n"
     ]
    },
    {
     "data": {
      "image/png": "[encoded data removed]",
      "text/plain": [
       "<Figure size 640x480 with 1 Axes>"
      ]
     },
     "metadata": {},
     "output_type": "display_data"
    }
   ],
   "source": [
    "model(10,3,200,64)  "
   ]
  },
  {
   "attachments": {},
   "cell_type": "markdown",
   "metadata": {},
   "source": []
  },
  {
   "cell_type": "code",
   "execution_count": null,
   "metadata": {},
   "outputs": [
    {
     "name": "stdout",
     "output_type": "stream",
     "text": [
      "loss on the final batch 2.1111538410186768\n",
      "loss on the whole dev set 2.170051336288452\n"
     ]
    }
   ],
   "source": [
    "model(10,3,400)"
   ]
  },
  {
   "cell_type": "code",
   "execution_count": null,
   "metadata": {},
   "outputs": [],
   "source": []
  }
 ],
 "metadata": {
  "kernelspec": {
   "display_name": "Python 3",
   "language": "python",
   "name": "python3"
  },
  "language_info": {
   "codemirror_mode": {
    "name": "ipython",
    "version": 3
   },
   "file_extension": ".py",
   "mimetype": "text/x-python",
   "name": "python",
   "nbconvert_exporter": "python",
   "pygments_lexer": "ipython3",
   "version": "3.10.11"
  },
  "orig_nbformat": 4
 },
 "nbformat": 4,
 "nbformat_minor": 2
}
